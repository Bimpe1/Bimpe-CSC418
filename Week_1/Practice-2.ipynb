{
 "cells": [
  {
   "cell_type": "markdown",
   "id": "a259cf35",
   "metadata": {},
   "source": [
    "## Practice-2"
   ]
  },
  {
   "cell_type": "code",
   "execution_count": 3,
   "id": "18832107",
   "metadata": {},
   "outputs": [],
   "source": [
    "import cv2\n",
    "#path\n",
    "path = 'images/boy.jpg'\n",
    "\n",
    "#reading imagein grayscale mode\n",
    "img = cv2.imread(path,0)\n",
    "\n",
    "#window name in which image is displayed\n",
    "window_name = \"Display Image\"\n",
    "\n",
    "# Display image\n",
    "cv2.imshow(window_name, img)\n",
    "\n",
    "# Hold the window\n",
    "cv2.waitKey(0)\n",
    "\n",
    "cv2.destroyAllWindows()"
   ]
  }
 ],
 "metadata": {
  "kernelspec": {
   "display_name": "Python 3",
   "language": "python",
   "name": "python3"
  },
  "language_info": {
   "codemirror_mode": {
    "name": "ipython",
    "version": 3
   },
   "file_extension": ".py",
   "mimetype": "text/x-python",
   "name": "python",
   "nbconvert_exporter": "python",
   "pygments_lexer": "ipython3",
   "version": "3.8.8"
  }
 },
 "nbformat": 4,
 "nbformat_minor": 5
}
