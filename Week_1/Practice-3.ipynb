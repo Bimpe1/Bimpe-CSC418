{
 "cells": [
  {
   "cell_type": "markdown",
   "id": "5cec5c42",
   "metadata": {},
   "source": [
    "## Practice-3"
   ]
  },
  {
   "cell_type": "code",
   "execution_count": 6,
   "id": "b8372951",
   "metadata": {},
   "outputs": [],
   "source": [
    "import cv2\n",
    "import os\n",
    "\n",
    "#image path\n",
    "image_path = r'C:\\Users\\adeto\\Downloads\\Bimpe-CSC418\\Week_1\\images\\boy.jpg'\n",
    "\n",
    "directory=r'C:\\Users\\adeto\\Downloads\\Bimpe-CSC418\\Week_1\\images'\n",
    "\n",
    "img= cv2.imread(image_path, 0)\n",
    "\n",
    "os.chdir(directory)"
   ]
  }
 ],
 "metadata": {
  "kernelspec": {
   "display_name": "Python 3",
   "language": "python",
   "name": "python3"
  },
  "language_info": {
   "codemirror_mode": {
    "name": "ipython",
    "version": 3
   },
   "file_extension": ".py",
   "mimetype": "text/x-python",
   "name": "python",
   "nbconvert_exporter": "python",
   "pygments_lexer": "ipython3",
   "version": "3.8.8"
  }
 },
 "nbformat": 4,
 "nbformat_minor": 5
}
