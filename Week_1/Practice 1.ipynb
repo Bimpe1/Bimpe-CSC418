{
 "cells": [
  {
   "cell_type": "markdown",
   "id": "4b7d19d7",
   "metadata": {},
   "source": [
    "## Practice-1"
   ]
  },
  {
   "cell_type": "code",
   "execution_count": 3,
   "id": "ef367ac0",
   "metadata": {},
   "outputs": [],
   "source": [
    "import cv2\n",
    "#path\n",
    "path = 'images/lagos.jpg'\n",
    "\n",
    "#reading image using imread() function\n",
    "img = cv2.imread(path)\n",
    "\n",
    "window_name = \"Display Image\"\n",
    "\n",
    "# Display image\n",
    "cv2.imshow(window_name, img)\n",
    "\n",
    "# Hold the window\n",
    "cv2.waitKey(0)\n",
    "cv2.destroyAllWindows()"
   ]
  },
  {
   "cell_type": "markdown",
   "id": "17471432",
   "metadata": {},
   "source": []
  }
 ],
 "metadata": {
  "kernelspec": {
   "display_name": "Python 3",
   "language": "python",
   "name": "python3"
  },
  "language_info": {
   "codemirror_mode": {
    "name": "ipython",
    "version": 3
   },
   "file_extension": ".py",
   "mimetype": "text/x-python",
   "name": "python",
   "nbconvert_exporter": "python",
   "pygments_lexer": "ipython3",
   "version": "3.8.8"
  }
 },
 "nbformat": 4,
 "nbformat_minor": 5
}
