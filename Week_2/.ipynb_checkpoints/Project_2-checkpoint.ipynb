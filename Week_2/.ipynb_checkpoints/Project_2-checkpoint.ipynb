{
 "cells": [
  {
   "cell_type": "markdown",
   "id": "0f71d1b4",
   "metadata": {},
   "source": []
  },
  {
   "cell_type": "code",
   "execution_count": null,
   "id": "cd0a4d0c",
   "metadata": {},
   "outputs": [
    {
     "name": "stdout",
     "output_type": "stream",
     "text": [
      "Username: bimpe\n",
      "Matric No: 1\n",
      "\n",
      "Choose a classmate:\n",
      "1. Karol\n",
      "2. Bimpe\n",
      "3. Stephanie\n",
      "4. Ada\n",
      "5. Kamsy\n",
      "6. Muna\n",
      "7. Chinenye\n",
      "8. Oyinkan\n",
      "9. Ise\n",
      "10. Chisom\n"
     ]
    }
   ],
   "source": [
    "import cv2\n",
    "import numpy as np\n",
    "import os\n",
    "\n",
    "users = {\"bimpe\": \"1\"}\n",
    "class_members = {\"Karol\": \"karol.jpg\", \"Bimpe\": \"bimpe.jpg\", \"Stephanie\": \"stephanie.jpg\", \"Ada\": \"ada.jpg\", \"Kamsy\": \"kamsy.jpg\", \"Muna\": \"muna.jpg\", \"Chinenye\": \"chinenye.jpg\", \"Oyinkan\": \"oyinkan.jpg\", \"Ise\": \"ise.jpg\", \"Chisom\": \"chisom.jpg\"}\n",
    "\n",
    "def enhance_image(image, technique):\n",
    "    if technique == \"1\":\n",
    "        return cv2.convertScaleAbs(image, alpha=1.5, beta=50)  \n",
    "    if technique == \"2\":\n",
    "        return cv2.filter2D(image, -1, np.array([[0, -1, 0], [-1, 5, -1], [0, -1, 0]]))  # Sharpening\n",
    "    if technique == \"3\":\n",
    "        return cv2.medianBlur(cv2.GaussianBlur(image, (5, 5), 0), 5)  # Remove Noise\n",
    "    if technique == \"4\":\n",
    "        return cv2.resize(image, (300, 300))  \n",
    "    if technique == \"5\":\n",
    "        return cv2.add(image, np.ones(image.shape, dtype=np.uint8) * 50)  # Arithmetic Operations\n",
    "    if technique == \"6\":\n",
    "        return cv2.bitwise_not(image)  \n",
    "    if technique == \"7\":\n",
    "        return cv2.cvtColor(image, cv2.COLOR_BGR2HSV) \n",
    "    return None\n",
    "\n",
    "username = input(\"Username: \").strip().lower()\n",
    "matno = input(\"Matric No: \").strip()\n",
    "\n",
    "if users.get(username) == matno:\n",
    "    print(\"\\nChoose a classmate:\")\n",
    "    names = list(class_members.keys())\n",
    "    for i, name in enumerate(names, 1):\n",
    "        print(f\"{i}. {name}\")\n",
    "\n",
    "    choice = input(\"Enter number: \").strip()\n",
    "    if choice not in map(str, range(1, len(names) + 1)):\n",
    "        exit(\"Invalid choice!\")\n",
    "\n",
    "    image_path = class_members[names[int(choice) - 1]]\n",
    "    image = cv2.imread(image_path)\n",
    "    if image is None:\n",
    "        exit(\"Image not found!\")\n",
    "\n",
    "    print(\"\\nChoose enhancement:\\n1. Brightness\\n2. Sharpen\\n3. Denoise\\n4. Resize\\n5. Arithmetic\\n6. Inverse\\n7. Color\")\n",
    "    technique = input(\"Enter number: \").strip()\n",
    "    \n",
    "    enhanced = enhance_image(image, technique)\n",
    "    if enhanced is not None:\n",
    "        save_path = f\"enhanced_{image_path}\"\n",
    "        cv2.imwrite(save_path, enhanced)\n",
    "        print(f\"Saved at {save_path}\")\n",
    "        cv2.imshow(\"Enhanced\", enhanced)\n",
    "        cv2.waitKey(0)\n",
    "        cv2.destroyAllWindows()\n",
    "    else:\n",
    "        print(\"Invalid technique!\")\n",
    "else:\n",
    "    print(\"Login failed!\")\n"
   ]
  },
  {
   "cell_type": "code",
   "execution_count": null,
   "id": "e2749a0e",
   "metadata": {},
   "outputs": [],
   "source": []
  }
 ],
 "metadata": {
  "kernelspec": {
   "display_name": "Python 3",
   "language": "python",
   "name": "python3"
  },
  "language_info": {
   "codemirror_mode": {
    "name": "ipython",
    "version": 3
   },
   "file_extension": ".py",
   "mimetype": "text/x-python",
   "name": "python",
   "nbconvert_exporter": "python",
   "pygments_lexer": "ipython3",
   "version": "3.8.8"
  }
 },
 "nbformat": 4,
 "nbformat_minor": 5
}
