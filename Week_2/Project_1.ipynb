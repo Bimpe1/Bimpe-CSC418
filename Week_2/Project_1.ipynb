{
 "cells": [
  {
   "cell_type": "markdown",
   "metadata": {},
   "source": [
    "## Project 1"
   ]
  },
  {
   "cell_type": "code",
   "execution_count": 1,
   "metadata": {},
   "outputs": [
    {
     "ename": "KeyboardInterrupt",
     "evalue": "Interrupted by user",
     "output_type": "error",
     "traceback": [
      "\u001b[1;31m---------------------------------------------------------------------------\u001b[0m",
      "\u001b[1;31mKeyboardInterrupt\u001b[0m                         Traceback (most recent call last)",
      "\u001b[1;32m<ipython-input-1-52fc5eeaaf70>\u001b[0m in \u001b[0;36m<module>\u001b[1;34m\u001b[0m\n\u001b[0;32m     44\u001b[0m     \u001b[0mprint\u001b[0m\u001b[1;33m(\u001b[0m\u001b[1;34m\"\\nLogin Failed! Incorrect username or password.\"\u001b[0m\u001b[1;33m)\u001b[0m\u001b[1;33m\u001b[0m\u001b[1;33m\u001b[0m\u001b[0m\n\u001b[0;32m     45\u001b[0m \u001b[1;33m\u001b[0m\u001b[0m\n\u001b[1;32m---> 46\u001b[1;33m \u001b[0mlogin\u001b[0m\u001b[1;33m(\u001b[0m\u001b[1;33m)\u001b[0m\u001b[1;33m\u001b[0m\u001b[1;33m\u001b[0m\u001b[0m\n\u001b[0m",
      "\u001b[1;32m<ipython-input-1-52fc5eeaaf70>\u001b[0m in \u001b[0;36mlogin\u001b[1;34m()\u001b[0m\n\u001b[0;32m     17\u001b[0m }\n\u001b[0;32m     18\u001b[0m \u001b[1;32mdef\u001b[0m \u001b[0mlogin\u001b[0m\u001b[1;33m(\u001b[0m\u001b[1;33m)\u001b[0m\u001b[1;33m:\u001b[0m\u001b[1;33m\u001b[0m\u001b[1;33m\u001b[0m\u001b[0m\n\u001b[1;32m---> 19\u001b[1;33m     \u001b[0musername\u001b[0m \u001b[1;33m=\u001b[0m \u001b[0minput\u001b[0m\u001b[1;33m(\u001b[0m\u001b[1;34m\"Enter your username (First Name): \"\u001b[0m\u001b[1;33m)\u001b[0m\u001b[1;33m.\u001b[0m\u001b[0mstrip\u001b[0m\u001b[1;33m(\u001b[0m\u001b[1;33m)\u001b[0m\u001b[1;33m.\u001b[0m\u001b[0mlower\u001b[0m\u001b[1;33m(\u001b[0m\u001b[1;33m)\u001b[0m\u001b[1;33m\u001b[0m\u001b[1;33m\u001b[0m\u001b[0m\n\u001b[0m\u001b[0;32m     20\u001b[0m     \u001b[0mpassword\u001b[0m \u001b[1;33m=\u001b[0m \u001b[0minput\u001b[0m\u001b[1;33m(\u001b[0m\u001b[1;34m\"Enter your password (Length of your Surname): \"\u001b[0m\u001b[1;33m)\u001b[0m\u001b[1;33m.\u001b[0m\u001b[0mstrip\u001b[0m\u001b[1;33m(\u001b[0m\u001b[1;33m)\u001b[0m\u001b[1;33m\u001b[0m\u001b[1;33m\u001b[0m\u001b[0m\n\u001b[0;32m     21\u001b[0m \u001b[1;33m\u001b[0m\u001b[0m\n",
      "\u001b[1;32m~\\anaconda\\lib\\site-packages\\ipykernel\\kernelbase.py\u001b[0m in \u001b[0;36mraw_input\u001b[1;34m(self, prompt)\u001b[0m\n\u001b[0;32m    858\u001b[0m                 \u001b[1;34m\"raw_input was called, but this frontend does not support input requests.\"\u001b[0m\u001b[1;33m\u001b[0m\u001b[1;33m\u001b[0m\u001b[0m\n\u001b[0;32m    859\u001b[0m             )\n\u001b[1;32m--> 860\u001b[1;33m         return self._input_request(str(prompt),\n\u001b[0m\u001b[0;32m    861\u001b[0m             \u001b[0mself\u001b[0m\u001b[1;33m.\u001b[0m\u001b[0m_parent_ident\u001b[0m\u001b[1;33m,\u001b[0m\u001b[1;33m\u001b[0m\u001b[1;33m\u001b[0m\u001b[0m\n\u001b[0;32m    862\u001b[0m             \u001b[0mself\u001b[0m\u001b[1;33m.\u001b[0m\u001b[0m_parent_header\u001b[0m\u001b[1;33m,\u001b[0m\u001b[1;33m\u001b[0m\u001b[1;33m\u001b[0m\u001b[0m\n",
      "\u001b[1;32m~\\anaconda\\lib\\site-packages\\ipykernel\\kernelbase.py\u001b[0m in \u001b[0;36m_input_request\u001b[1;34m(self, prompt, ident, parent, password)\u001b[0m\n\u001b[0;32m    902\u001b[0m             \u001b[1;32mexcept\u001b[0m \u001b[0mKeyboardInterrupt\u001b[0m\u001b[1;33m:\u001b[0m\u001b[1;33m\u001b[0m\u001b[1;33m\u001b[0m\u001b[0m\n\u001b[0;32m    903\u001b[0m                 \u001b[1;31m# re-raise KeyboardInterrupt, to truncate traceback\u001b[0m\u001b[1;33m\u001b[0m\u001b[1;33m\u001b[0m\u001b[1;33m\u001b[0m\u001b[0m\n\u001b[1;32m--> 904\u001b[1;33m                 \u001b[1;32mraise\u001b[0m \u001b[0mKeyboardInterrupt\u001b[0m\u001b[1;33m(\u001b[0m\u001b[1;34m\"Interrupted by user\"\u001b[0m\u001b[1;33m)\u001b[0m \u001b[1;32mfrom\u001b[0m \u001b[1;32mNone\u001b[0m\u001b[1;33m\u001b[0m\u001b[1;33m\u001b[0m\u001b[0m\n\u001b[0m\u001b[0;32m    905\u001b[0m             \u001b[1;32mexcept\u001b[0m \u001b[0mException\u001b[0m \u001b[1;32mas\u001b[0m \u001b[0me\u001b[0m\u001b[1;33m:\u001b[0m\u001b[1;33m\u001b[0m\u001b[1;33m\u001b[0m\u001b[0m\n\u001b[0;32m    906\u001b[0m                 \u001b[0mself\u001b[0m\u001b[1;33m.\u001b[0m\u001b[0mlog\u001b[0m\u001b[1;33m.\u001b[0m\u001b[0mwarning\u001b[0m\u001b[1;33m(\u001b[0m\u001b[1;34m\"Invalid Message:\"\u001b[0m\u001b[1;33m,\u001b[0m \u001b[0mexc_info\u001b[0m\u001b[1;33m=\u001b[0m\u001b[1;32mTrue\u001b[0m\u001b[1;33m)\u001b[0m\u001b[1;33m\u001b[0m\u001b[1;33m\u001b[0m\u001b[0m\n",
      "\u001b[1;31mKeyboardInterrupt\u001b[0m: Interrupted by user"
     ]
    }
   ],
   "source": [
    "import cv2\n",
    "import os\n",
    "import matplotlib.pyplot as plt\n",
    "\n",
    "image=\"images\"\n",
    "umc_members = {\n",
    "    \"1\": {\"title\":\"Prof.\",\"surname\": \"Okenedo\",\"firstname\":\"Enase\", \"username\": \"Enase\",\"password\": len(\"Okenedo\"), \"image\": \"images/image9.jpg\"},\n",
    "    \"2\": {\"title\":\"Mr.\",\"surname\": \"Ukaoha\",\"firstname\":\"Kingsley\", \"username\": \"Kingsley\",\"password\": len(\"Ukaoha\"), \"image\": \"images/default.jpg\"},\n",
    "    \"3\": {\"title\":\"Professor.\",\"surname\": \"Ogbechie\",\"firstname\":\"Chris\", \"username\": \"Chris\",\"password\": len(\"Ogbechie\"), \"image\": \"images/image8.jpg\"},\n",
    "    \"4\": {\"title\":\"Mr.\",\"surname\": \"Don Ogbuike\",\"firstname\":\"Ikechukwu\", \"username\": \"Ikechukwu\",\"password\": len(\"Don Ogbuike\"), \"image\": \"images/image7.jpg\"},\n",
    "    \"5\": {\"title\":\"Dr.\",\"surname\": \"Obiaya\",\"firstname\":\"Ikechukwu\", \"username\": \"Ikechukwu\",\"password\": len(\"Obiaya\"), \"image\": \"images/image6.jpg\"},\n",
    "    \"6\": {\"title\":\"Dr.\",\"surname\": \"Oni\",\"firstname\":\"Sola\", \"username\": \"Sola\",\"password\": len(\"Oni\"), \"image\": \"images/image5.jpg\"},\n",
    "    \"7\": {\"title\":\"Dr.\",\"surname\": \"Agbholor\",\"firstname\":\"Darlington\", \"username\": \"Darlington\",\"password\": len(\"Agbholor\"), \"image\": \"images/image4.jpg\"},\n",
    "    \"8\": {\"title\":\"Mrs.\",\"surname\": \"Okekearu\",\"firstname\":\"Nneka\", \"username\": \"Nneka\",\"password\": len(\"Okekearu\"), \"image\": \"images/image3.jpg\"},\n",
    "    \"9\": {\"title\":\"Dr.\",\"surname\": \"Onaga\",\"firstname\":\"Adaora\", \"username\": \"Adaora\",\"password\": len(\"Onaga\"), \"image\": \"images/image2.jpg\"},\n",
    "    \"10\": {\"title\":\"Dr.\",\"surname\": \"Bamkole\",\"firstname\":\"Peter\", \"username\": \"Peter\",\"password\": len(\"Bamkole\"), \"image\": \"images/image1.jpg\"},\n",
    "}\n",
    "def login():\n",
    "    username = input(\"Enter your username (First Name): \").strip().lower()\n",
    "    password = input(\"Enter your password (Length of your Surname): \").strip()\n",
    "\n",
    "    if not password.isdigit():\n",
    "        print(\"Invalid password! Password should be a number.\")\n",
    "        return\n",
    "\n",
    "    password = int(password)\n",
    "\n",
    "    for member_id, member in umc_members.items():\n",
    "        if member[\"username\"].lower() == username and member[\"password\"] == password:\n",
    "            print(\"\\nLogin Successful!\")\n",
    "            print(f\"Welcome, {member['title']} {member['firstname']} {member['surname']}\")\n",
    "            \n",
    "            if os.path.exists(member[\"image\"]):\n",
    "                img = cv2.imread(member[\"image\"])  \n",
    "                cv2.imshow(f\"{member['firstname']}'s Profile\", img)\n",
    "                cv2.waitKey(0)  \n",
    "                cv2.destroyAllWindows() \n",
    "            else:\n",
    "                print(\"Profile image not found.\")\n",
    "\n",
    "\n",
    "            return \n",
    "\n",
    "    print(\"\\nLogin Failed! Incorrect username or password.\")\n",
    "\n",
    "login()\n"
   ]
  },
  {
   "cell_type": "code",
   "execution_count": null,
   "metadata": {},
   "outputs": [],
   "source": []
  }
 ],
 "metadata": {
  "kernelspec": {
   "display_name": "Python 3",
   "language": "python",
   "name": "python3"
  },
  "language_info": {
   "codemirror_mode": {
    "name": "ipython",
    "version": 3
   },
   "file_extension": ".py",
   "mimetype": "text/x-python",
   "name": "python",
   "nbconvert_exporter": "python",
   "pygments_lexer": "ipython3",
   "version": "3.8.3"
  }
 },
 "nbformat": 4,
 "nbformat_minor": 5
}
