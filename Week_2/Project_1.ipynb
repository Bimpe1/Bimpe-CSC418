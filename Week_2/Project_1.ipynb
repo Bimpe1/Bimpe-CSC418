{
 "cells": [
  {
   "cell_type": "markdown",
   "metadata": {},
   "source": [
    "## Project 1"
   ]
  },
  {
   "cell_type": "code",
   "execution_count": null,
   "metadata": {},
   "outputs": [],
   "source": [
    "import cv2\n",
    "import os\n",
    "import matplotlib.pyplot as plt\n",
    "\n",
    "image=\"images\"\n",
    "umc_members = {\n",
    "    \"1\": {\"title\":\"Prof.\",\"surname\": \"Okenedo\",\"firstname\":\"Enase\", \"username\": \"Enase\",\"password\": len(\"Okenedo\"), \"image\": \"images/image9.jpg\"},\n",
    "    \"2\": {\"title\":\"Mr.\",\"surname\": \"Ukaoha\",\"firstname\":\"Kingsley\", \"username\": \"Kingsley\",\"password\": len(\"Ukaoha\"), \"image\": \"images/default.jpg\"},\n",
    "    \"3\": {\"title\":\"Professor.\",\"surname\": \"Ogbechie\",\"firstname\":\"Chris\", \"username\": \"Chris\",\"password\": len(\"Ogbechie\"), \"image\": \"images/image8.jpg\"},\n",
    "    \"4\": {\"title\":\"Mr.\",\"surname\": \"Don Ogbuike\",\"firstname\":\"Ikechukwu\", \"username\": \"Ikechukwu\",\"password\": len(\"Don Ogbuike\"), \"image\": \"images/image7.jpg\"},\n",
    "    \"5\": {\"title\":\"Dr.\",\"surname\": \"Obiaya\",\"firstname\":\"Ikechukwu\", \"username\": \"Ikechukwu\",\"password\": len(\"Obiaya\"), \"image\": \"images/image6.jpg\"},\n",
    "    \"6\": {\"title\":\"Dr.\",\"surname\": \"Oni\",\"firstname\":\"Sola\", \"username\": \"Sola\",\"password\": len(\"Oni\"), \"image\": \"images/image5.jpg\"},\n",
    "    \"7\": {\"title\":\"Dr.\",\"surname\": \"Agbholor\",\"firstname\":\"Darlington\", \"username\": \"Darlington\",\"password\": len(\"Agbholor\"), \"image\": \"images/image4.jpg\"},\n",
    "    \"8\": {\"title\":\"Mrs.\",\"surname\": \"Okekearu\",\"firstname\":\"Nneka\", \"username\": \"Nneka\",\"password\": len(\"Okekearu\"), \"image\": \"images/image3.jpg\"},\n",
    "    \"9\": {\"title\":\"Dr.\",\"surname\": \"Onaga\",\"firstname\":\"Adaora\", \"username\": \"Adaora\",\"password\": len(\"Onaga\"), \"image\": \"images/image2.jpg\"},\n",
    "    \"10\": {\"title\":\"Dr.\",\"surname\": \"Bamkole\",\"firstname\":\"Peter\", \"username\": \"Peter\",\"password\": len(\"Bamkole\"), \"image\": \"images/image1.jpg\"},\n",
    "}\n",
    "def login():\n",
    "    username = input(\"Enter your username (First Name): \").strip().lower()\n",
    "    password = input(\"Enter your password (Length of your Surname): \").strip()\n",
    "\n",
    "    if not password.isdigit():\n",
    "        print(\"Invalid password! Password should be a number.\")\n",
    "        return\n",
    "\n",
    "    password = int(password)\n",
    "\n",
    "    for member_id, member in umc_members.items():\n",
    "        if member[\"username\"].lower() == username and member[\"password\"] == password:\n",
    "            print(\"\\nLogin Successful!\")\n",
    "            print(f\"Welcome, {member['title']} {member['firstname']} {member['surname']}\")\n",
    "            \n",
    "            if os.path.exists(member[\"image\"]):\n",
    "                img = cv2.imread(member[\"image\"])  \n",
    "                cv2.imshow(f\"{member['firstname']}'s Profile\", img)\n",
    "                cv2.waitKey(0)  \n",
    "                cv2.destroyAllWindows() \n",
    "            else:\n",
    "                print(\"Profile image not found.\")\n",
    "\n",
    "\n",
    "            return \n",
    "\n",
    "    print(\"\\nLogin Failed! Incorrect username or password.\")\n",
    "\n",
    "login()\n"
   ]
  },
  {
   "cell_type": "code",
   "execution_count": null,
   "metadata": {},
   "outputs": [],
   "source": []
  }
 ],
 "metadata": {
  "kernelspec": {
   "display_name": "Python 3",
   "language": "python",
   "name": "python3"
  },
  "language_info": {
   "codemirror_mode": {
    "name": "ipython",
    "version": 3
   },
   "file_extension": ".py",
   "mimetype": "text/x-python",
   "name": "python",
   "nbconvert_exporter": "python",
   "pygments_lexer": "ipython3",
   "version": "3.8.3"
  }
 },
 "nbformat": 4,
 "nbformat_minor": 5
}
