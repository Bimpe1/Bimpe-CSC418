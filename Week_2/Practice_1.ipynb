{
 "cells": [
  {
   "cell_type": "markdown",
   "id": "37720a12",
   "metadata": {},
   "source": [
    "##  Practice_1"
   ]
  },
  {
   "cell_type": "code",
   "execution_count": 13,
   "id": "ea6ed0d6",
   "metadata": {},
   "outputs": [],
   "source": [
    "import cv2\n",
    "\n",
    "image = cv2.imread('images/color_space.png')\n",
    "\n",
    "# The split method separates color spaces\n",
    "B, G, R = cv2.split(image)\n",
    "\n",
    "# Corresponding channels are separated\n",
    "cv2.imshow(\"original\", image)\n",
    "cv2.waitKey(0)\n",
    "\n",
    "cv2.imshow(\"blue\", B)\n",
    "cv2.waitKey(0)\n",
    "\n",
    "cv2.imshow(\"Green\", G)\n",
    "cv2.waitKey(0)\n",
    "\n",
    "cv2.imshow(\"red\", R)\n",
    "cv2.waitKey(0)\n",
    "\n",
    "cv2.destroyAllWindows()\n"
   ]
  },
  {
   "cell_type": "code",
   "execution_count": null,
   "id": "29a61417",
   "metadata": {},
   "outputs": [],
   "source": []
  }
 ],
 "metadata": {
  "kernelspec": {
   "display_name": "Python 3",
   "language": "python",
   "name": "python3"
  },
  "language_info": {
   "codemirror_mode": {
    "name": "ipython",
    "version": 3
   },
   "file_extension": ".py",
   "mimetype": "text/x-python",
   "name": "python",
   "nbconvert_exporter": "python",
   "pygments_lexer": "ipython3",
   "version": "3.8.8"
  }
 },
 "nbformat": 4,
 "nbformat_minor": 5
}
